{
 "cells": [
  {
   "cell_type": "markdown",
   "id": "998015fe-2a0f-460f-8565-b697a599e7ee",
   "metadata": {},
   "source": [
    "### Import and test 3 of the functions from your functions exercise file. Import each function in a different way:"
   ]
  },
  {
   "cell_type": "code",
   "execution_count": 24,
   "id": "22c6298c-de0e-4c21-a4da-e4d0975903f9",
   "metadata": {},
   "outputs": [
    {
     "data": {
      "text/plain": [
       "True"
      ]
     },
     "execution_count": 24,
     "metadata": {},
     "output_type": "execute_result"
    }
   ],
   "source": [
    "#Run an interactive python session and import the module. Call the is_vowel function using the . syntax.\n",
    "import function_exercises\n",
    "function_exercises.is_vowel('a')"
   ]
  },
  {
   "cell_type": "code",
   "execution_count": 29,
   "id": "561fdd25-506e-437d-be7b-ec0b447660f1",
   "metadata": {},
   "outputs": [
    {
     "data": {
      "text/plain": [
       "'D'"
      ]
     },
     "execution_count": 29,
     "metadata": {},
     "output_type": "execute_result"
    }
   ],
   "source": [
    "# Create a jupyter notebook named import_exercises.ipynb. \n",
    "# Use from to import the get_letter_grade function and give it an alias. Test this function in your notebook.\n",
    "from function_exercises import get_letter_grade as glg\n",
    "glg(66)"
   ]
  },
  {
   "cell_type": "markdown",
   "id": "2aa7db98-0718-4d02-ad20-a0c5d8d28948",
   "metadata": {},
   "source": [
    "### Read about and use the itertools module from the python standard library to help you solve the following problems (Hint: wrap the itertools results in a list to see the results).\n",
    "How many different ways can you combine a single letter from \"abc\" with either 1, 2, or 3?\n",
    "How many different combinations are there of 2 letters from \"abcd\"?\n",
    "How many different permutations are there of 2 letters from \"abcd\"?"
   ]
  },
  {
   "cell_type": "code",
   "execution_count": 42,
   "id": "2ef443cc-e870-4e90-ac48-1ef58696eab9",
   "metadata": {},
   "outputs": [],
   "source": [
    "import itertools"
   ]
  },
  {
   "cell_type": "code",
   "execution_count": 21,
   "id": "a9fb02f2-f5d2-4745-80cb-3e164c7ddf47",
   "metadata": {},
   "outputs": [
    {
     "data": {
      "text/plain": [
       "9"
      ]
     },
     "execution_count": 21,
     "metadata": {},
     "output_type": "execute_result"
    }
   ],
   "source": [
    "len(list(itertools.product('abc', '123')))"
   ]
  },
  {
   "cell_type": "code",
   "execution_count": 20,
   "id": "329f0fd5-8e21-4984-9e5d-9ee10224cf51",
   "metadata": {},
   "outputs": [
    {
     "data": {
      "text/plain": [
       "6"
      ]
     },
     "execution_count": 20,
     "metadata": {},
     "output_type": "execute_result"
    }
   ],
   "source": [
    "len(list(itertools.combinations('abcs', 2)))"
   ]
  },
  {
   "cell_type": "code",
   "execution_count": 4,
   "id": "795281cf",
   "metadata": {},
   "outputs": [
    {
     "data": {
      "text/plain": [
       "12"
      ]
     },
     "execution_count": 4,
     "metadata": {},
     "output_type": "execute_result"
    }
   ],
   "source": [
    "len(list(itertools.permutations('abcd', 2)))"
   ]
  },
  {
   "cell_type": "markdown",
   "id": "18e685c2",
   "metadata": {},
   "source": [
    "Save this file as profiles.json inside of your exercises directory (right click -> save file as...).\n",
    "\n",
    "Use the load function from the json module to open this file.\n",
    "\n",
    "Your code should produce a list of dictionaries. Using this data, write some code that calculates and outputs the following information:\n",
    "\n",
    "Total number of users\n",
    "\n",
    "Number of active users\n",
    "\n",
    "Number of inactive users\n",
    "\n",
    "Grand total of balances for all users\n",
    "\n",
    "Average balance per user\n",
    "\n",
    "User with the lowest balance\n",
    "\n",
    "User with the highest balance\n",
    "\n",
    "Most common favorite fruit\n",
    "\n",
    "Least most common favorite fruit\n",
    "\n",
    "Total number of unread messages for all users"
   ]
  },
  {
   "cell_type": "code",
   "execution_count": 36,
   "id": "87ffcc18",
   "metadata": {},
   "outputs": [],
   "source": [
    "import json \n",
    "\n",
    "profiles = json.load(open('profiles.json'))"
   ]
  },
  {
   "cell_type": "code",
   "execution_count": 161,
   "id": "6fd4d433",
   "metadata": {},
   "outputs": [
    {
     "data": {
      "text/plain": [
       "19"
      ]
     },
     "execution_count": 161,
     "metadata": {},
     "output_type": "execute_result"
    }
   ],
   "source": [
    "# Total number of users\n",
    "# checking the type to see what type of data I am working with\n",
    "type(profiles)\n",
    "\n",
    "# calling the first 2 elemtens to determine the type of contents in the list\n",
    "profiles[0:2]\n",
    "\n",
    "# called length to get the number of profiles who are assumed to be users\n",
    "len(profiles)"
   ]
  },
  {
   "cell_type": "code",
   "execution_count": 25,
   "id": "3259807e",
   "metadata": {},
   "outputs": [
    {
     "data": {
      "text/plain": [
       "9"
      ]
     },
     "execution_count": 25,
     "metadata": {},
     "output_type": "execute_result"
    }
   ],
   "source": [
    "# Number of active users\n",
    "# re examining the file to see where and how to find the activity status\n",
    "profiles[0]\n",
    "\n",
    "# creating a list of all active users with a list comprehension\n",
    "active_users = [d for d in profiles if d['isActive'] == True]\n",
    "\n",
    "# doing a surface level check of the users activity status\n",
    "[d['isActive'] for d in active_users]\n",
    "\n",
    "# getting the number of active users with the length function\n",
    "len(active_users)"
   ]
  },
  {
   "cell_type": "code",
   "execution_count": 30,
   "id": "34378d1a",
   "metadata": {},
   "outputs": [
    {
     "data": {
      "text/plain": [
       "10"
      ]
     },
     "execution_count": 30,
     "metadata": {},
     "output_type": "execute_result"
    }
   ],
   "source": [
    "# Number of inactive users\n",
    "\n",
    "# creating a list of all people not in the active_user variable \n",
    "inactive_users = [d for d in profiles if d not in active_users]\n",
    "\n",
    "# checking the activity status\n",
    "[d['isActive'] for d in inactive_users]\n",
    "\n",
    "# using the lenngth function to count number of dictionaries(users) in the inactive_users list\n",
    "len(inactive_users)"
   ]
  },
  {
   "cell_type": "code",
   "execution_count": 41,
   "id": "de345a5f",
   "metadata": {},
   "outputs": [
    {
     "name": "stdout",
     "output_type": "stream",
     "text": [
      "52667.02\n"
     ]
    }
   ],
   "source": [
    "# Grand total of balances for all users\n",
    "# checking the dictionary to see what the name of the key in the dictionary is\n",
    "profiles[0]\n",
    "\n",
    "\n",
    "def money_machine(x):\n",
    "    '''\n",
    "    This function takes a us currency string as an argument and returns the string with only valid python identifiers\n",
    "    '''\n",
    "    # reassign the string stripped of trailing spaces\n",
    "    x = x.strip()\n",
    "    # reassign the string with the spaces replaced with nothing\n",
    "    x = x.replace(' ', '')\n",
    "    # reassign the string with the $ replaced with nothing\n",
    "    x = x.replace('$', '')\n",
    "    # reassign the string with commas removed\n",
    "    x = x.replace(',', '')\n",
    "    # reassigns the string as a float\n",
    "    x = float(x)\n",
    "    return x\n",
    "\n",
    "# the balances are all strings. I will need to cnvert all the strings to flots then add them together to get the grand total\n",
    "new_balance = [money_machine(d['balance']) for d in profiles]\n",
    "\n",
    "# getting the grand total by summing all the elements in the list\n",
    "grand_total = sum(new_balance)\n",
    "\n",
    "print(grand_total)"
   ]
  },
  {
   "cell_type": "code",
   "execution_count": 160,
   "id": "0b4be8b8",
   "metadata": {
    "scrolled": true
   },
   "outputs": [
    {
     "data": {
      "text/plain": [
       "[{'apple': 6}, {'banana': 4}, {'strawberry': 9}]"
      ]
     },
     "execution_count": 160,
     "metadata": {},
     "output_type": "execute_result"
    }
   ],
   "source": [
    "# Most common favorite fruit and Least favorite\n",
    "profiles[0]\n",
    "\n",
    "# getting a list of all the favorite fruits\n",
    "fav_fruits = [d['favoriteFruit'] for d in profiles]\n",
    "\n",
    "# Identifying the unique favorite fruits\n",
    "set(fav_fruits) \n",
    "\n",
    "# itertools.groupby groups by sameness and order\n",
    "# used a list comprehension to store the results in a dictionary\n",
    "# with the fruit as the key and the count/length of the list created \n",
    "# as the value\n",
    "f = [{k: len(list(g))} for k, g in itertools.groupby(sorted(fav_fruits),)]\n"
   ]
  },
  {
   "cell_type": "code",
   "execution_count": 145,
   "id": "3ee75f1b",
   "metadata": {},
   "outputs": [
    {
     "data": {
      "text/plain": [
       "210"
      ]
     },
     "execution_count": 145,
     "metadata": {},
     "output_type": "execute_result"
    }
   ],
   "source": [
    "# Total number of unread messages for all users\n",
    "# check profile for the correct key\n",
    "profiles[0]\n",
    "\n",
    "# created a list with only the greetings\n",
    "greetings = [d['greeting'] for d in profiles]\n",
    "\n",
    "# a blank list for gathering all the numbers with no text\n",
    "nums_only = []\n",
    "\n",
    "# the end of the message is always the same length, used negative indexes\n",
    "# to keep only the the section needed in the empty nums_only list\n",
    "for i in greetings:\n",
    "    nums_only += [i[-19:-16]]\n",
    "\n",
    "# created a list with the strings stripped of spaces and converted to integers\n",
    "stripped = [int(num.strip()) for num in nums_only]\n",
    "\n",
    "# called the sum finction to get a sum of all numbers in the lsit\n",
    "sum(stripped)\n",
    "\n",
    "## old incorrect answer \n",
    "# def remove_all_but_numbers(x):\n",
    "#     '''\n",
    "#     This function takes a string as an argument and returns the string without vowels\n",
    "#     '''\n",
    "#     # create a loop to individually check each character in the string\n",
    "#     for char in x:\n",
    "#         # a condition to check each character or element is a vowel\n",
    "#         if char.isdigit() == False:\n",
    "#             # if the condition is met, the character will be replaced with nothing\n",
    "#             x = x.replace(char, '')\n",
    "#     # after on the digits are left, convert them to integers\n",
    "#     # after each character replaced or ignored, the edited string is returned\n",
    "#     return x\n",
    "# remove_all_but_numbers('asd12')\n",
    "\n",
    "# d = []\n",
    "# for i in greetings:\n",
    "#     d += remove_all_but_numbers(i)\n",
    "#     print(d)\n",
    "\n",
    "# int_num = [int(n) for n in d]\n",
    "\n",
    "# sum(int_num)\n",
    "# dummy = remove_all_but_numbers(greetings[:])\n",
    "#list(itertools.filterfalse(lambda x: x.isdigit() == True, [for greets in greetings]))\n"
   ]
  }
 ],
 "metadata": {
  "kernelspec": {
   "display_name": "Python 3 (ipykernel)",
   "language": "python",
   "name": "python3"
  },
  "language_info": {
   "codemirror_mode": {
    "name": "ipython",
    "version": 3
   },
   "file_extension": ".py",
   "mimetype": "text/x-python",
   "name": "python",
   "nbconvert_exporter": "python",
   "pygments_lexer": "ipython3",
   "version": "3.9.13"
  }
 },
 "nbformat": 4,
 "nbformat_minor": 5
}
