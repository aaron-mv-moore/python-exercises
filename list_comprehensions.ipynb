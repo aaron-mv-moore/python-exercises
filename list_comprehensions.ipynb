{
 "cells": [
  {
   "cell_type": "markdown",
   "id": "9e105b88",
   "metadata": {},
   "source": [
    "# 17 list comprehension problems in python"
   ]
  },
  {
   "cell_type": "code",
   "execution_count": 2,
   "id": "44efc717",
   "metadata": {},
   "outputs": [],
   "source": [
    "fruits = ['mango', 'kiwi', 'strawberry', 'guava', 'pineapple', 'mandarin orange']\n",
    "\n",
    "numbers = [2, 3, 4, 5, 6, 7, 8, 9, 10, 11, 13, 17, 19, 23, 256, -8, -4, -2, 5, -9]\n",
    "\n",
    "# Example for loop solution to add 1 to each number in the list\n",
    "numbers_plus_one = []\n",
    "for number in numbers:\n",
    "    numbers_plus_one.append(number + 1)\n",
    "\n",
    "# Example of using a list comprehension to create a list of the numbers plus one.\n",
    "numbers_plus_one = [number + 1 for number in numbers]\n",
    "\n",
    "# Example code that creates a list of all of the list of strings in fruits and uppercases every string\n",
    "output = []\n",
    "for fruit in fruits:\n",
    "    output.append(fruit.upper())\n",
    "    "
   ]
  },
  {
   "cell_type": "markdown",
   "id": "3e7bf733",
   "metadata": {},
   "source": [
    "### Exercise 1 - rewrite the above example code using list comprehension syntax. Make a variable named uppercased_fruits to hold the output of the list comprehension. Output should be ['MANGO', 'KIWI', etc...]"
   ]
  },
  {
   "cell_type": "code",
   "execution_count": 4,
   "id": "ea0cdbf1",
   "metadata": {},
   "outputs": [
    {
     "name": "stdout",
     "output_type": "stream",
     "text": [
      "['MANGO', 'KIWI', 'STRAWBERRY', 'GUAVA', 'PINEAPPLE', 'MANDARIN ORANGE']\n"
     ]
    }
   ],
   "source": [
    "uppercased_fruits = [fruit.upper() for fruit in fruits]\n",
    "print(uppercased_fruits)"
   ]
  },
  {
   "cell_type": "markdown",
   "id": "70a768be",
   "metadata": {},
   "source": [
    "### Exercise 2 - create a variable named capitalized_fruits and use list comprehension syntax to produce output like ['Mango', 'Kiwi', 'Strawberry', etc...]"
   ]
  },
  {
   "cell_type": "code",
   "execution_count": 11,
   "id": "c8ceec30",
   "metadata": {},
   "outputs": [
    {
     "data": {
      "text/plain": [
       "['Mango', 'Kiwi', 'Strawberry', 'Guava', 'Pineapple', 'Mandarin orange']"
      ]
     },
     "execution_count": 11,
     "metadata": {},
     "output_type": "execute_result"
    }
   ],
   "source": [
    "capitalized_fruits = [fruit.capitalize() for fruit in fruits]\n",
    "capitalized_fruits"
   ]
  },
  {
   "cell_type": "markdown",
   "id": "6d778d10",
   "metadata": {},
   "source": [
    "### Exercise 3 - Use a list comprehension to make a variable named fruits_with_more_than_two_vowels. Hint: You'll need a way to check if something is a vowel."
   ]
  },
  {
   "cell_type": "code",
   "execution_count": 43,
   "id": "24874226",
   "metadata": {},
   "outputs": [
    {
     "name": "stdout",
     "output_type": "stream",
     "text": [
      "['mango', 'kiwi', 'strawberry', 'guava', 'pineapple', 'mandarin orange']\n",
      "mango\n",
      "1\n",
      "2\n",
      "kiwi\n",
      "1\n",
      "2\n",
      "strawberry\n",
      "1\n",
      "2\n",
      "guava\n",
      "1\n",
      "2\n",
      "3\n",
      "pineapple\n",
      "1\n",
      "2\n",
      "3\n",
      "4\n",
      "mandarin orange\n",
      "1\n",
      "2\n",
      "3\n",
      "4\n",
      "5\n",
      "6\n"
     ]
    },
    {
     "data": {
      "text/plain": [
       "['guava', 'pineapple', 'mandarin orange']"
      ]
     },
     "execution_count": 43,
     "metadata": {},
     "output_type": "execute_result"
    }
   ],
   "source": [
    "# each letter in the elements need to be checle to see if they are vowels\n",
    "# a list of the different compoenents needed:\n",
    "# we need to have the vowels\n",
    "vowels = 'aeiou'\n",
    "vowels = list(vowels)\n",
    "vowels\n",
    "fruits_with_more_than_two_vowels = []\n",
    "print(fruits)\n",
    "for fruit in fruits:\n",
    "    print(fruit)\n",
    "    count = 0\n",
    "    for char in fruit:\n",
    "        if char in vowels:\n",
    "            count += 1\n",
    "            print(count)\n",
    "    if count > 2:\n",
    "        fruits_with_more_than_two_vowels.append(fruit)\n",
    "fruits_with_more_than_two_vowels"
   ]
  },
  {
   "cell_type": "markdown",
   "id": "b9adad06",
   "metadata": {},
   "source": [
    "### Exercise 4 - make a variable named fruits_with_only_two_vowels. The result should be ['mango', 'kiwi', 'strawberry']"
   ]
  },
  {
   "cell_type": "code",
   "execution_count": 49,
   "id": "83cbe119",
   "metadata": {},
   "outputs": [
    {
     "name": "stdout",
     "output_type": "stream",
     "text": [
      "['a', 'e', 'i', 'o', 'u']\n",
      "['mango', 'kiwi', 'strawberry', 'guava', 'pineapple', 'mandarin orange']\n",
      "mango\n",
      "kiwi\n",
      "strawberry\n",
      "guava\n",
      "pineapple\n",
      "mandarin orange\n"
     ]
    },
    {
     "data": {
      "text/plain": [
       "['mango', 'kiwi', 'strawberry']"
      ]
     },
     "execution_count": 49,
     "metadata": {},
     "output_type": "execute_result"
    }
   ],
   "source": [
    "vowels = 'aeiou'\n",
    "vowels = list(vowels)\n",
    "print(vowels)\n",
    "print(fruits)\n",
    "fruits_with_only_two_vowels = []\n",
    "for fruit in fruits:\n",
    "    print(fruit)\n",
    "    count = 0\n",
    "    for char in fruit:\n",
    "        if char in vowels:\n",
    "            count += 1\n",
    "    if count == 2:\n",
    "        fruits_with_only_two_vowels.append(fruit)\n",
    "fruits_with_only_two_vowels"
   ]
  },
  {
   "cell_type": "markdown",
   "id": "29c4765b",
   "metadata": {},
   "source": [
    "### Exercise 5 - make a list that contains each fruit with more than 5 characters"
   ]
  },
  {
   "cell_type": "code",
   "execution_count": 51,
   "id": "5d4b30fb",
   "metadata": {},
   "outputs": [
    {
     "data": {
      "text/plain": [
       "['strawberry', 'pineapple', 'mandarin orange']"
      ]
     },
     "execution_count": 51,
     "metadata": {},
     "output_type": "execute_result"
    }
   ],
   "source": [
    "more_than_5 = [fruit for fruit in fruits if len(fruit) > 5]\n",
    "more_than_5"
   ]
  },
  {
   "cell_type": "markdown",
   "id": "0c9e0c62",
   "metadata": {},
   "source": [
    "### Exercise 6 - make a list that contains each fruit with exactly 5 characters"
   ]
  },
  {
   "cell_type": "code",
   "execution_count": 53,
   "id": "992f18a5",
   "metadata": {},
   "outputs": [
    {
     "data": {
      "text/plain": [
       "['mango', 'guava']"
      ]
     },
     "execution_count": 53,
     "metadata": {},
     "output_type": "execute_result"
    }
   ],
   "source": [
    "exactly_5 = [fruit for fruit in fruits if len(fruit) == 5]\n",
    "exactly_5"
   ]
  },
  {
   "cell_type": "markdown",
   "id": "0048decc",
   "metadata": {},
   "source": [
    "### Exercise 7 - Make a list that contains fruits that have less than 5 characters"
   ]
  },
  {
   "cell_type": "code",
   "execution_count": 55,
   "id": "4d09c960",
   "metadata": {},
   "outputs": [
    {
     "data": {
      "text/plain": [
       "['kiwi']"
      ]
     },
     "execution_count": 55,
     "metadata": {},
     "output_type": "execute_result"
    }
   ],
   "source": [
    "less_than_5 = [fruit for fruit in fruits if len(fruit) < 5]\n",
    "less_than_5"
   ]
  },
  {
   "cell_type": "markdown",
   "id": "f66efb19",
   "metadata": {},
   "source": [
    "### Exercise 8 - Make a list containing the number of characters in each fruit. Output would be [5, 4, 10, etc... ]"
   ]
  },
  {
   "cell_type": "code",
   "execution_count": 57,
   "id": "6f4152c7",
   "metadata": {},
   "outputs": [
    {
     "data": {
      "text/plain": [
       "[5, 4, 10, 5, 9, 15]"
      ]
     },
     "execution_count": 57,
     "metadata": {},
     "output_type": "execute_result"
    }
   ],
   "source": [
    "fruit_char_num = [len(fruit) for fruit in fruits]\n",
    "fruit_char_num"
   ]
  },
  {
   "cell_type": "markdown",
   "id": "fc454e80",
   "metadata": {},
   "source": [
    "### Exercise 9 - Make a variable named fruits_with_letter_a that contains a list of only the fruits that contain the letter \"a\""
   ]
  },
  {
   "cell_type": "code",
   "execution_count": 63,
   "id": "ec09ee8e",
   "metadata": {},
   "outputs": [
    {
     "data": {
      "text/plain": [
       "['mango', 'strawberry', 'guava', 'pineapple', 'mandarin orange']"
      ]
     },
     "execution_count": 63,
     "metadata": {},
     "output_type": "execute_result"
    }
   ],
   "source": [
    "fruits_with_letter_a = [fruit for fruit in fruits if 'a' in fruit]\n",
    "fruits_with_letter_a"
   ]
  },
  {
   "cell_type": "markdown",
   "id": "c38d4bd4",
   "metadata": {},
   "source": [
    "### Exercise 10 - Make a variable named even_numbers that holds only the even numbers "
   ]
  },
  {
   "cell_type": "code",
   "execution_count": 67,
   "id": "b339a21b",
   "metadata": {},
   "outputs": [
    {
     "data": {
      "text/plain": [
       "[2, 4, 6, 8, 10, 256, -8, -4, -2]"
      ]
     },
     "execution_count": 67,
     "metadata": {},
     "output_type": "execute_result"
    }
   ],
   "source": [
    "even_numbers = [number for number in numbers if number % 2 == 0]\n",
    "even_numbers"
   ]
  },
  {
   "cell_type": "markdown",
   "id": "30396886",
   "metadata": {},
   "source": [
    "### Exercise 11 - Make a variable named odd_numbers that holds only the odd numbers"
   ]
  },
  {
   "cell_type": "code",
   "execution_count": 69,
   "id": "063496dd",
   "metadata": {},
   "outputs": [
    {
     "data": {
      "text/plain": [
       "[3, 5, 7, 9, 11, 13, 17, 19, 23, 5, -9]"
      ]
     },
     "execution_count": 69,
     "metadata": {},
     "output_type": "execute_result"
    }
   ],
   "source": [
    "odd_numbers = [number for number in numbers if number % 2 == 1]\n",
    "odd_numbers"
   ]
  },
  {
   "cell_type": "markdown",
   "id": "9289298b",
   "metadata": {},
   "source": [
    "### Exercise 12 - Make a variable named positive_numbers that holds only the positive numbers"
   ]
  },
  {
   "cell_type": "code",
   "execution_count": 71,
   "id": "cb057ee6",
   "metadata": {},
   "outputs": [
    {
     "data": {
      "text/plain": [
       "[2, 3, 4, 5, 6, 7, 8, 9, 10, 11, 13, 17, 19, 23, 256, 5]"
      ]
     },
     "execution_count": 71,
     "metadata": {},
     "output_type": "execute_result"
    }
   ],
   "source": [
    "positive_numbers = [number for number in numbers if number > 0]\n",
    "positive_numbers"
   ]
  },
  {
   "cell_type": "markdown",
   "id": "d999bf2f",
   "metadata": {},
   "source": [
    "### Exercise 13 - Make a variable named negative_numbers that holds only the negative numbers"
   ]
  },
  {
   "cell_type": "code",
   "execution_count": 73,
   "id": "902335f8",
   "metadata": {},
   "outputs": [
    {
     "data": {
      "text/plain": [
       "[-8, -4, -2, -9]"
      ]
     },
     "execution_count": 73,
     "metadata": {},
     "output_type": "execute_result"
    }
   ],
   "source": [
    "negative_numbers = [number for number in numbers if number < 0]\n",
    "negative_numbers"
   ]
  },
  {
   "cell_type": "markdown",
   "id": "51d305bd",
   "metadata": {},
   "source": [
    "### Exercise 14 - use a list comprehension w/ a conditional in order to produce a list of numbers with 2 or more numerals"
   ]
  },
  {
   "cell_type": "code",
   "execution_count": 75,
   "id": "ea67c451",
   "metadata": {},
   "outputs": [
    {
     "data": {
      "text/plain": [
       "[10, 11, 13, 17, 19, 23, 256, -8, -4, -2, -9]"
      ]
     },
     "execution_count": 75,
     "metadata": {},
     "output_type": "execute_result"
    }
   ],
   "source": [
    "num_length = [number for number in numbers if len(str(number)) >= 2]\n",
    "num_length"
   ]
  },
  {
   "cell_type": "markdown",
   "id": "01fb8e20",
   "metadata": {},
   "source": [
    "### Exercise 15 - Make a variable named numbers_squared that contains the numbers list with each element squared. Output is [4, 9, 16, etc...]"
   ]
  },
  {
   "cell_type": "code",
   "execution_count": 77,
   "id": "2cc346ce",
   "metadata": {},
   "outputs": [
    {
     "data": {
      "text/plain": [
       "[4,\n",
       " 9,\n",
       " 16,\n",
       " 25,\n",
       " 36,\n",
       " 49,\n",
       " 64,\n",
       " 81,\n",
       " 100,\n",
       " 121,\n",
       " 169,\n",
       " 289,\n",
       " 361,\n",
       " 529,\n",
       " 65536,\n",
       " 64,\n",
       " 16,\n",
       " 4,\n",
       " 25,\n",
       " 81]"
      ]
     },
     "execution_count": 77,
     "metadata": {},
     "output_type": "execute_result"
    }
   ],
   "source": [
    "numbers_squared = [number ** 2 for number in numbers]\n",
    "numbers_squared"
   ]
  },
  {
   "cell_type": "markdown",
   "id": "37800c66",
   "metadata": {},
   "source": [
    "### Exercise 16 - Make a variable named odd_negative_numbers that contains only the numbers that are both odd and negative."
   ]
  },
  {
   "cell_type": "code",
   "execution_count": 78,
   "id": "03df535c",
   "metadata": {},
   "outputs": [
    {
     "data": {
      "text/plain": [
       "[-9]"
      ]
     },
     "execution_count": 78,
     "metadata": {},
     "output_type": "execute_result"
    }
   ],
   "source": [
    "odd_negative_numbers = [number for number in numbers if number % 2 == 1 and number < 0]\n",
    "odd_negative_numbers"
   ]
  },
  {
   "cell_type": "markdown",
   "id": "613432e7",
   "metadata": {},
   "source": [
    "### Exercise 17 - Make a variable named numbers_plus_5. In it, return a list containing each number plus five."
   ]
  },
  {
   "cell_type": "code",
   "execution_count": 79,
   "id": "ba2a46ab",
   "metadata": {},
   "outputs": [
    {
     "data": {
      "text/plain": [
       "[7, 8, 9, 10, 11, 12, 13, 14, 15, 16, 18, 22, 24, 28, 261, -3, 1, 3, 10, -4]"
      ]
     },
     "execution_count": 79,
     "metadata": {},
     "output_type": "execute_result"
    }
   ],
   "source": [
    "numbers_plus_5 = [number + 5 for number in numbers]\n",
    "numbers_plus_5"
   ]
  },
  {
   "cell_type": "markdown",
   "id": "a0144d92",
   "metadata": {},
   "source": [
    "### BONUS Make a variable named \"primes\" that is a list containing the prime numbers in the numbers list. *Hint* you may want to make or find a helper function that determines if a given number is prime or not."
   ]
  },
  {
   "cell_type": "code",
   "execution_count": 93,
   "id": "f3ec31f0",
   "metadata": {},
   "outputs": [
    {
     "name": "stdout",
     "output_type": "stream",
     "text": [
      "[2, 3, 4, 5, 6, 7, 8, 9, 10, 11, 13, 17, 19, 23, 256, -8, -4, -2, 5, -9]\n"
     ]
    },
    {
     "data": {
      "text/plain": [
       "[2, 3, 5, 7, 11, 13, 17, 19, 23, 5]"
      ]
     },
     "execution_count": 93,
     "metadata": {},
     "output_type": "execute_result"
    }
   ],
   "source": [
    "import sympy\n",
    "print(numbers)\n",
    "primes = [number for number in numbers if number > 0 and sympy.isprime(number)]\n",
    "primes"
   ]
  }
 ],
 "metadata": {
  "kernelspec": {
   "display_name": "Python 3 (ipykernel)",
   "language": "python",
   "name": "python3"
  },
  "language_info": {
   "codemirror_mode": {
    "name": "ipython",
    "version": 3
   },
   "file_extension": ".py",
   "mimetype": "text/x-python",
   "name": "python",
   "nbconvert_exporter": "python",
   "pygments_lexer": "ipython3",
   "version": "3.9.13"
  }
 },
 "nbformat": 4,
 "nbformat_minor": 5
}
