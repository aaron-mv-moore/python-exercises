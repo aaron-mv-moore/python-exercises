{
 "cells": [
  {
   "cell_type": "code",
   "execution_count": 1,
   "id": "b158b8ad",
   "metadata": {},
   "outputs": [
    {
     "data": {
      "text/plain": [
       "<function print>"
      ]
     },
     "execution_count": 1,
     "metadata": {},
     "output_type": "execute_result"
    }
   ],
   "source": [
    "print('You can use the up and down arrow keys to move between cells. We love to see it!')"
   ]
  },
  {
   "cell_type": "code",
   "execution_count": 3,
   "id": "7bdac6af",
   "metadata": {},
   "outputs": [
    {
     "name": "stdout",
     "output_type": "stream",
     "text": [
      "Command + ] is a keyboard shirtcut to indent\n"
     ]
    }
   ],
   "source": [
    "print('Command + ] is a keyboard shortcut to indent')"
   ]
  },
  {
   "cell_type": "code",
   "execution_count": 5,
   "id": "5d97a45a",
   "metadata": {},
   "outputs": [
    {
     "name": "stdout",
     "output_type": "stream",
     "text": [
      "Command + Return is another keyboard shortcut to run the cell\n"
     ]
    }
   ],
   "source": [
    "print('Command + Return is another keyboard shortcut to run the cell')"
   ]
  },
  {
   "cell_type": "markdown",
   "id": "fea2a5ea",
   "metadata": {},
   "source": [
    "# Big Text\n",
    "## More big text\n",
    "### This is the power of markdown. Get with it."
   ]
  },
  {
   "cell_type": "markdown",
   "id": "e3f76ce0",
   "metadata": {},
   "source": [
    "## New cell under this one\n",
    "esc + b\n",
    "\n",
    "## new cell above this one\n",
    "esc + a"
   ]
  },
  {
   "cell_type": "code",
   "execution_count": null,
   "id": "7e035d72",
   "metadata": {},
   "outputs": [],
   "source": []
  }
 ],
 "metadata": {
  "kernelspec": {
   "display_name": "Python 3 (ipykernel)",
   "language": "python",
   "name": "python3"
  },
  "language_info": {
   "codemirror_mode": {
    "name": "ipython",
    "version": 3
   },
   "file_extension": ".py",
   "mimetype": "text/x-python",
   "name": "python",
   "nbconvert_exporter": "python",
   "pygments_lexer": "ipython3",
   "version": "3.9.13"
  }
 },
 "nbformat": 4,
 "nbformat_minor": 5
}
